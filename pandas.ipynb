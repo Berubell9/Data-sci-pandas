{
 "metadata": {
  "language_info": {
   "codemirror_mode": {
    "name": "ipython",
    "version": 3
   },
   "file_extension": ".py",
   "mimetype": "text/x-python",
   "name": "python",
   "nbconvert_exporter": "python",
   "pygments_lexer": "ipython3",
   "version": "3.9.5"
  },
  "orig_nbformat": 4,
  "kernelspec": {
   "name": "python3",
   "display_name": "Python 3.9.5 64-bit"
  },
  "interpreter": {
   "hash": "be0d47e84fc7e33404042284385234951e1b0faf579e24fe77c71b4cdf8dd2cc"
  }
 },
 "nbformat": 4,
 "nbformat_minor": 2,
 "cells": [
  {
   "cell_type": "code",
   "execution_count": 4,
   "metadata": {},
   "outputs": [],
   "source": [
    "import pandas as pd\n",
    "import numpy as np"
   ]
  },
  {
   "cell_type": "code",
   "execution_count": 5,
   "metadata": {},
   "outputs": [
    {
     "output_type": "execute_result",
     "data": {
      "text/plain": [
       "   0  1  2  3  4  5  6  7  8  9\n",
       "0  0  1  2  3  4  5  6  7  8  9\n",
       "1  0  1  2  3  4  5  6  7  8  9\n",
       "2  0  1  2  3  4  5  6  7  8  9\n",
       "3  0  1  2  3  4  5  6  7  8  9\n",
       "4  0  1  2  3  4  5  6  7  8  9"
      ],
      "text/html": "<div>\n<style scoped>\n    .dataframe tbody tr th:only-of-type {\n        vertical-align: middle;\n    }\n\n    .dataframe tbody tr th {\n        vertical-align: top;\n    }\n\n    .dataframe thead th {\n        text-align: right;\n    }\n</style>\n<table border=\"1\" class=\"dataframe\">\n  <thead>\n    <tr style=\"text-align: right;\">\n      <th></th>\n      <th>0</th>\n      <th>1</th>\n      <th>2</th>\n      <th>3</th>\n      <th>4</th>\n      <th>5</th>\n      <th>6</th>\n      <th>7</th>\n      <th>8</th>\n      <th>9</th>\n    </tr>\n  </thead>\n  <tbody>\n    <tr>\n      <th>0</th>\n      <td>0</td>\n      <td>1</td>\n      <td>2</td>\n      <td>3</td>\n      <td>4</td>\n      <td>5</td>\n      <td>6</td>\n      <td>7</td>\n      <td>8</td>\n      <td>9</td>\n    </tr>\n    <tr>\n      <th>1</th>\n      <td>0</td>\n      <td>1</td>\n      <td>2</td>\n      <td>3</td>\n      <td>4</td>\n      <td>5</td>\n      <td>6</td>\n      <td>7</td>\n      <td>8</td>\n      <td>9</td>\n    </tr>\n    <tr>\n      <th>2</th>\n      <td>0</td>\n      <td>1</td>\n      <td>2</td>\n      <td>3</td>\n      <td>4</td>\n      <td>5</td>\n      <td>6</td>\n      <td>7</td>\n      <td>8</td>\n      <td>9</td>\n    </tr>\n    <tr>\n      <th>3</th>\n      <td>0</td>\n      <td>1</td>\n      <td>2</td>\n      <td>3</td>\n      <td>4</td>\n      <td>5</td>\n      <td>6</td>\n      <td>7</td>\n      <td>8</td>\n      <td>9</td>\n    </tr>\n    <tr>\n      <th>4</th>\n      <td>0</td>\n      <td>1</td>\n      <td>2</td>\n      <td>3</td>\n      <td>4</td>\n      <td>5</td>\n      <td>6</td>\n      <td>7</td>\n      <td>8</td>\n      <td>9</td>\n    </tr>\n  </tbody>\n</table>\n</div>"
     },
     "metadata": {},
     "execution_count": 5
    }
   ],
   "source": [
    "list1 = []\n",
    "for x in range(5):\n",
    "    a = []\n",
    "    for y in range(10):\n",
    "        a.append(y)\n",
    "    list1.append(a)\n",
    "b = pd.DataFrame(list1)\n",
    "b"
   ]
  },
  {
   "cell_type": "code",
   "execution_count": 13,
   "metadata": {},
   "outputs": [
    {
     "output_type": "execute_result",
     "data": {
      "text/plain": [
       "    Duration          Date  Pulse  Maxpulse  Calories\n",
       "0         60  '2020/12/01'    110       130     409.1\n",
       "1         60  '2020/12/02'    117       145     479.0\n",
       "2         60  '2020/12/03'    103       135     340.0\n",
       "3         45  '2020/12/04'    109       175     282.4\n",
       "4         45  '2020/12/05'    117       148     406.0\n",
       "5         60  '2020/12/06'    102       127     300.0\n",
       "6         60  '2020/12/07'    110       136     374.0\n",
       "7        450  '2020/12/08'    104       134     253.3\n",
       "8         30  '2020/12/09'    109       133     195.1\n",
       "9         60  '2020/12/10'     98       124     269.0\n",
       "10        60  '2020/12/11'    103       147     329.3\n",
       "11        60  '2020/12/12'    100       120     250.7\n",
       "12        60  '2020/12/12'    100       120     250.7\n",
       "13        60  '2020/12/13'    106       128     345.3\n",
       "14        60  '2020/12/14'    104       132     379.3\n",
       "15        60  '2020/12/15'     98       123     275.0\n",
       "16        60  '2020/12/16'     98       120     215.2\n",
       "17        60  '2020/12/17'    100       120     300.0\n",
       "19        60  '2020/12/19'    103       123     323.0\n",
       "20        45  '2020/12/20'     97       125     243.0\n",
       "21        60  '2020/12/21'    108       131     364.2\n",
       "23        60  '2020/12/23'    130       101     300.0\n",
       "24        45  '2020/12/24'    105       132     246.0\n",
       "25        60  '2020/12/25'    102       126     334.5\n",
       "26        60      20201226    100       120     250.0\n",
       "27        60  '2020/12/27'     92       118     241.0\n",
       "29        60  '2020/12/29'    100       132     280.0\n",
       "30        60  '2020/12/30'    102       129     380.3\n",
       "31        60  '2020/12/31'     92       115     243.0"
      ],
      "text/html": "<div>\n<style scoped>\n    .dataframe tbody tr th:only-of-type {\n        vertical-align: middle;\n    }\n\n    .dataframe tbody tr th {\n        vertical-align: top;\n    }\n\n    .dataframe thead th {\n        text-align: right;\n    }\n</style>\n<table border=\"1\" class=\"dataframe\">\n  <thead>\n    <tr style=\"text-align: right;\">\n      <th></th>\n      <th>Duration</th>\n      <th>Date</th>\n      <th>Pulse</th>\n      <th>Maxpulse</th>\n      <th>Calories</th>\n    </tr>\n  </thead>\n  <tbody>\n    <tr>\n      <th>0</th>\n      <td>60</td>\n      <td>'2020/12/01'</td>\n      <td>110</td>\n      <td>130</td>\n      <td>409.1</td>\n    </tr>\n    <tr>\n      <th>1</th>\n      <td>60</td>\n      <td>'2020/12/02'</td>\n      <td>117</td>\n      <td>145</td>\n      <td>479.0</td>\n    </tr>\n    <tr>\n      <th>2</th>\n      <td>60</td>\n      <td>'2020/12/03'</td>\n      <td>103</td>\n      <td>135</td>\n      <td>340.0</td>\n    </tr>\n    <tr>\n      <th>3</th>\n      <td>45</td>\n      <td>'2020/12/04'</td>\n      <td>109</td>\n      <td>175</td>\n      <td>282.4</td>\n    </tr>\n    <tr>\n      <th>4</th>\n      <td>45</td>\n      <td>'2020/12/05'</td>\n      <td>117</td>\n      <td>148</td>\n      <td>406.0</td>\n    </tr>\n    <tr>\n      <th>5</th>\n      <td>60</td>\n      <td>'2020/12/06'</td>\n      <td>102</td>\n      <td>127</td>\n      <td>300.0</td>\n    </tr>\n    <tr>\n      <th>6</th>\n      <td>60</td>\n      <td>'2020/12/07'</td>\n      <td>110</td>\n      <td>136</td>\n      <td>374.0</td>\n    </tr>\n    <tr>\n      <th>7</th>\n      <td>450</td>\n      <td>'2020/12/08'</td>\n      <td>104</td>\n      <td>134</td>\n      <td>253.3</td>\n    </tr>\n    <tr>\n      <th>8</th>\n      <td>30</td>\n      <td>'2020/12/09'</td>\n      <td>109</td>\n      <td>133</td>\n      <td>195.1</td>\n    </tr>\n    <tr>\n      <th>9</th>\n      <td>60</td>\n      <td>'2020/12/10'</td>\n      <td>98</td>\n      <td>124</td>\n      <td>269.0</td>\n    </tr>\n    <tr>\n      <th>10</th>\n      <td>60</td>\n      <td>'2020/12/11'</td>\n      <td>103</td>\n      <td>147</td>\n      <td>329.3</td>\n    </tr>\n    <tr>\n      <th>11</th>\n      <td>60</td>\n      <td>'2020/12/12'</td>\n      <td>100</td>\n      <td>120</td>\n      <td>250.7</td>\n    </tr>\n    <tr>\n      <th>12</th>\n      <td>60</td>\n      <td>'2020/12/12'</td>\n      <td>100</td>\n      <td>120</td>\n      <td>250.7</td>\n    </tr>\n    <tr>\n      <th>13</th>\n      <td>60</td>\n      <td>'2020/12/13'</td>\n      <td>106</td>\n      <td>128</td>\n      <td>345.3</td>\n    </tr>\n    <tr>\n      <th>14</th>\n      <td>60</td>\n      <td>'2020/12/14'</td>\n      <td>104</td>\n      <td>132</td>\n      <td>379.3</td>\n    </tr>\n    <tr>\n      <th>15</th>\n      <td>60</td>\n      <td>'2020/12/15'</td>\n      <td>98</td>\n      <td>123</td>\n      <td>275.0</td>\n    </tr>\n    <tr>\n      <th>16</th>\n      <td>60</td>\n      <td>'2020/12/16'</td>\n      <td>98</td>\n      <td>120</td>\n      <td>215.2</td>\n    </tr>\n    <tr>\n      <th>17</th>\n      <td>60</td>\n      <td>'2020/12/17'</td>\n      <td>100</td>\n      <td>120</td>\n      <td>300.0</td>\n    </tr>\n    <tr>\n      <th>19</th>\n      <td>60</td>\n      <td>'2020/12/19'</td>\n      <td>103</td>\n      <td>123</td>\n      <td>323.0</td>\n    </tr>\n    <tr>\n      <th>20</th>\n      <td>45</td>\n      <td>'2020/12/20'</td>\n      <td>97</td>\n      <td>125</td>\n      <td>243.0</td>\n    </tr>\n    <tr>\n      <th>21</th>\n      <td>60</td>\n      <td>'2020/12/21'</td>\n      <td>108</td>\n      <td>131</td>\n      <td>364.2</td>\n    </tr>\n    <tr>\n      <th>23</th>\n      <td>60</td>\n      <td>'2020/12/23'</td>\n      <td>130</td>\n      <td>101</td>\n      <td>300.0</td>\n    </tr>\n    <tr>\n      <th>24</th>\n      <td>45</td>\n      <td>'2020/12/24'</td>\n      <td>105</td>\n      <td>132</td>\n      <td>246.0</td>\n    </tr>\n    <tr>\n      <th>25</th>\n      <td>60</td>\n      <td>'2020/12/25'</td>\n      <td>102</td>\n      <td>126</td>\n      <td>334.5</td>\n    </tr>\n    <tr>\n      <th>26</th>\n      <td>60</td>\n      <td>20201226</td>\n      <td>100</td>\n      <td>120</td>\n      <td>250.0</td>\n    </tr>\n    <tr>\n      <th>27</th>\n      <td>60</td>\n      <td>'2020/12/27'</td>\n      <td>92</td>\n      <td>118</td>\n      <td>241.0</td>\n    </tr>\n    <tr>\n      <th>29</th>\n      <td>60</td>\n      <td>'2020/12/29'</td>\n      <td>100</td>\n      <td>132</td>\n      <td>280.0</td>\n    </tr>\n    <tr>\n      <th>30</th>\n      <td>60</td>\n      <td>'2020/12/30'</td>\n      <td>102</td>\n      <td>129</td>\n      <td>380.3</td>\n    </tr>\n    <tr>\n      <th>31</th>\n      <td>60</td>\n      <td>'2020/12/31'</td>\n      <td>92</td>\n      <td>115</td>\n      <td>243.0</td>\n    </tr>\n  </tbody>\n</table>\n</div>"
     },
     "metadata": {},
     "execution_count": 13
    }
   ],
   "source": [
    "a = pd.read_csv(\"data2.csv\")\n",
    "b = a.dropna() #เอาบรรทัดที่ว่างออก\n",
    "b"
   ]
  },
  {
   "cell_type": "code",
   "execution_count": 14,
   "metadata": {},
   "outputs": [
    {
     "output_type": "execute_result",
     "data": {
      "text/plain": [
       "    Duration          Date  Pulse  Maxpulse  Calories\n",
       "0         60  '2020/12/01'    110       130     409.1\n",
       "1         60  '2020/12/02'    117       145     479.0\n",
       "2         60  '2020/12/03'    103       135     340.0\n",
       "3         45  '2020/12/04'    109       175     282.4\n",
       "4         45  '2020/12/05'    117       148     406.0\n",
       "5         60  '2020/12/06'    102       127     300.0\n",
       "6         60  '2020/12/07'    110       136     374.0\n",
       "7        450  '2020/12/08'    104       134     253.3\n",
       "8         30  '2020/12/09'    109       133     195.1\n",
       "9         60  '2020/12/10'     98       124     269.0\n",
       "10        60  '2020/12/11'    103       147     329.3\n",
       "11        60  '2020/12/12'    100       120     250.7\n",
       "12        60  '2020/12/12'    100       120     250.7\n",
       "13        60  '2020/12/13'    106       128     345.3\n",
       "14        60  '2020/12/14'    104       132     379.3\n",
       "15        60  '2020/12/15'     98       123     275.0\n",
       "16        60  '2020/12/16'     98       120     215.2\n",
       "17        60  '2020/12/17'    100       120     300.0\n",
       "19        60  '2020/12/19'    103       123     323.0\n",
       "20        45  '2020/12/20'     97       125     243.0\n",
       "21        60  '2020/12/21'    108       131     364.2\n",
       "23        60  '2020/12/23'    130       101     300.0\n",
       "24        45  '2020/12/24'    105       132     246.0\n",
       "25        60  '2020/12/25'    102       126     334.5\n",
       "26        60      20201226    100       120     250.0\n",
       "27        60  '2020/12/27'     92       118     241.0\n",
       "29        60  '2020/12/29'    100       132     280.0\n",
       "30        60  '2020/12/30'    102       129     380.3\n",
       "31        60  '2020/12/31'     92       115     243.0"
      ],
      "text/html": "<div>\n<style scoped>\n    .dataframe tbody tr th:only-of-type {\n        vertical-align: middle;\n    }\n\n    .dataframe tbody tr th {\n        vertical-align: top;\n    }\n\n    .dataframe thead th {\n        text-align: right;\n    }\n</style>\n<table border=\"1\" class=\"dataframe\">\n  <thead>\n    <tr style=\"text-align: right;\">\n      <th></th>\n      <th>Duration</th>\n      <th>Date</th>\n      <th>Pulse</th>\n      <th>Maxpulse</th>\n      <th>Calories</th>\n    </tr>\n  </thead>\n  <tbody>\n    <tr>\n      <th>0</th>\n      <td>60</td>\n      <td>'2020/12/01'</td>\n      <td>110</td>\n      <td>130</td>\n      <td>409.1</td>\n    </tr>\n    <tr>\n      <th>1</th>\n      <td>60</td>\n      <td>'2020/12/02'</td>\n      <td>117</td>\n      <td>145</td>\n      <td>479.0</td>\n    </tr>\n    <tr>\n      <th>2</th>\n      <td>60</td>\n      <td>'2020/12/03'</td>\n      <td>103</td>\n      <td>135</td>\n      <td>340.0</td>\n    </tr>\n    <tr>\n      <th>3</th>\n      <td>45</td>\n      <td>'2020/12/04'</td>\n      <td>109</td>\n      <td>175</td>\n      <td>282.4</td>\n    </tr>\n    <tr>\n      <th>4</th>\n      <td>45</td>\n      <td>'2020/12/05'</td>\n      <td>117</td>\n      <td>148</td>\n      <td>406.0</td>\n    </tr>\n    <tr>\n      <th>5</th>\n      <td>60</td>\n      <td>'2020/12/06'</td>\n      <td>102</td>\n      <td>127</td>\n      <td>300.0</td>\n    </tr>\n    <tr>\n      <th>6</th>\n      <td>60</td>\n      <td>'2020/12/07'</td>\n      <td>110</td>\n      <td>136</td>\n      <td>374.0</td>\n    </tr>\n    <tr>\n      <th>7</th>\n      <td>450</td>\n      <td>'2020/12/08'</td>\n      <td>104</td>\n      <td>134</td>\n      <td>253.3</td>\n    </tr>\n    <tr>\n      <th>8</th>\n      <td>30</td>\n      <td>'2020/12/09'</td>\n      <td>109</td>\n      <td>133</td>\n      <td>195.1</td>\n    </tr>\n    <tr>\n      <th>9</th>\n      <td>60</td>\n      <td>'2020/12/10'</td>\n      <td>98</td>\n      <td>124</td>\n      <td>269.0</td>\n    </tr>\n    <tr>\n      <th>10</th>\n      <td>60</td>\n      <td>'2020/12/11'</td>\n      <td>103</td>\n      <td>147</td>\n      <td>329.3</td>\n    </tr>\n    <tr>\n      <th>11</th>\n      <td>60</td>\n      <td>'2020/12/12'</td>\n      <td>100</td>\n      <td>120</td>\n      <td>250.7</td>\n    </tr>\n    <tr>\n      <th>12</th>\n      <td>60</td>\n      <td>'2020/12/12'</td>\n      <td>100</td>\n      <td>120</td>\n      <td>250.7</td>\n    </tr>\n    <tr>\n      <th>13</th>\n      <td>60</td>\n      <td>'2020/12/13'</td>\n      <td>106</td>\n      <td>128</td>\n      <td>345.3</td>\n    </tr>\n    <tr>\n      <th>14</th>\n      <td>60</td>\n      <td>'2020/12/14'</td>\n      <td>104</td>\n      <td>132</td>\n      <td>379.3</td>\n    </tr>\n    <tr>\n      <th>15</th>\n      <td>60</td>\n      <td>'2020/12/15'</td>\n      <td>98</td>\n      <td>123</td>\n      <td>275.0</td>\n    </tr>\n    <tr>\n      <th>16</th>\n      <td>60</td>\n      <td>'2020/12/16'</td>\n      <td>98</td>\n      <td>120</td>\n      <td>215.2</td>\n    </tr>\n    <tr>\n      <th>17</th>\n      <td>60</td>\n      <td>'2020/12/17'</td>\n      <td>100</td>\n      <td>120</td>\n      <td>300.0</td>\n    </tr>\n    <tr>\n      <th>19</th>\n      <td>60</td>\n      <td>'2020/12/19'</td>\n      <td>103</td>\n      <td>123</td>\n      <td>323.0</td>\n    </tr>\n    <tr>\n      <th>20</th>\n      <td>45</td>\n      <td>'2020/12/20'</td>\n      <td>97</td>\n      <td>125</td>\n      <td>243.0</td>\n    </tr>\n    <tr>\n      <th>21</th>\n      <td>60</td>\n      <td>'2020/12/21'</td>\n      <td>108</td>\n      <td>131</td>\n      <td>364.2</td>\n    </tr>\n    <tr>\n      <th>23</th>\n      <td>60</td>\n      <td>'2020/12/23'</td>\n      <td>130</td>\n      <td>101</td>\n      <td>300.0</td>\n    </tr>\n    <tr>\n      <th>24</th>\n      <td>45</td>\n      <td>'2020/12/24'</td>\n      <td>105</td>\n      <td>132</td>\n      <td>246.0</td>\n    </tr>\n    <tr>\n      <th>25</th>\n      <td>60</td>\n      <td>'2020/12/25'</td>\n      <td>102</td>\n      <td>126</td>\n      <td>334.5</td>\n    </tr>\n    <tr>\n      <th>26</th>\n      <td>60</td>\n      <td>20201226</td>\n      <td>100</td>\n      <td>120</td>\n      <td>250.0</td>\n    </tr>\n    <tr>\n      <th>27</th>\n      <td>60</td>\n      <td>'2020/12/27'</td>\n      <td>92</td>\n      <td>118</td>\n      <td>241.0</td>\n    </tr>\n    <tr>\n      <th>29</th>\n      <td>60</td>\n      <td>'2020/12/29'</td>\n      <td>100</td>\n      <td>132</td>\n      <td>280.0</td>\n    </tr>\n    <tr>\n      <th>30</th>\n      <td>60</td>\n      <td>'2020/12/30'</td>\n      <td>102</td>\n      <td>129</td>\n      <td>380.3</td>\n    </tr>\n    <tr>\n      <th>31</th>\n      <td>60</td>\n      <td>'2020/12/31'</td>\n      <td>92</td>\n      <td>115</td>\n      <td>243.0</td>\n    </tr>\n  </tbody>\n</table>\n</div>"
     },
     "metadata": {},
     "execution_count": 14
    }
   ],
   "source": [
    "a = pd.read_csv(\"data2.csv\")\n",
    "a.dropna(inplace = True) #เอาบรรทัดที่ว่างออก\n",
    "a"
   ]
  },
  {
   "cell_type": "code",
   "execution_count": 15,
   "metadata": {},
   "outputs": [
    {
     "output_type": "execute_result",
     "data": {
      "text/plain": [
       "    Duration          Date  Pulse  Maxpulse Calories\n",
       "0         60  '2020/12/01'    110       130    409.1\n",
       "1         60  '2020/12/02'    117       145    479.0\n",
       "2         60  '2020/12/03'    103       135    340.0\n",
       "3         45  '2020/12/04'    109       175    282.4\n",
       "4         45  '2020/12/05'    117       148    406.0\n",
       "5         60  '2020/12/06'    102       127    300.0\n",
       "6         60  '2020/12/07'    110       136    374.0\n",
       "7        450  '2020/12/08'    104       134    253.3\n",
       "8         30  '2020/12/09'    109       133    195.1\n",
       "9         60  '2020/12/10'     98       124    269.0\n",
       "10        60  '2020/12/11'    103       147    329.3\n",
       "11        60  '2020/12/12'    100       120    250.7\n",
       "12        60  '2020/12/12'    100       120    250.7\n",
       "13        60  '2020/12/13'    106       128    345.3\n",
       "14        60  '2020/12/14'    104       132    379.3\n",
       "15        60  '2020/12/15'     98       123    275.0\n",
       "16        60  '2020/12/16'     98       120    215.2\n",
       "17        60  '2020/12/17'    100       120    300.0\n",
       "18        45  '2020/12/18'     90       112    Hello\n",
       "19        60  '2020/12/19'    103       123    323.0\n",
       "20        45  '2020/12/20'     97       125    243.0\n",
       "21        60  '2020/12/21'    108       131    364.2\n",
       "22        45         Hello    100       119    282.0\n",
       "23        60  '2020/12/23'    130       101    300.0\n",
       "24        45  '2020/12/24'    105       132    246.0\n",
       "25        60  '2020/12/25'    102       126    334.5\n",
       "26        60      20201226    100       120    250.0\n",
       "27        60  '2020/12/27'     92       118    241.0\n",
       "28        60  '2020/12/28'    103       132    Hello\n",
       "29        60  '2020/12/29'    100       132    280.0\n",
       "30        60  '2020/12/30'    102       129    380.3\n",
       "31        60  '2020/12/31'     92       115    243.0"
      ],
      "text/html": "<div>\n<style scoped>\n    .dataframe tbody tr th:only-of-type {\n        vertical-align: middle;\n    }\n\n    .dataframe tbody tr th {\n        vertical-align: top;\n    }\n\n    .dataframe thead th {\n        text-align: right;\n    }\n</style>\n<table border=\"1\" class=\"dataframe\">\n  <thead>\n    <tr style=\"text-align: right;\">\n      <th></th>\n      <th>Duration</th>\n      <th>Date</th>\n      <th>Pulse</th>\n      <th>Maxpulse</th>\n      <th>Calories</th>\n    </tr>\n  </thead>\n  <tbody>\n    <tr>\n      <th>0</th>\n      <td>60</td>\n      <td>'2020/12/01'</td>\n      <td>110</td>\n      <td>130</td>\n      <td>409.1</td>\n    </tr>\n    <tr>\n      <th>1</th>\n      <td>60</td>\n      <td>'2020/12/02'</td>\n      <td>117</td>\n      <td>145</td>\n      <td>479.0</td>\n    </tr>\n    <tr>\n      <th>2</th>\n      <td>60</td>\n      <td>'2020/12/03'</td>\n      <td>103</td>\n      <td>135</td>\n      <td>340.0</td>\n    </tr>\n    <tr>\n      <th>3</th>\n      <td>45</td>\n      <td>'2020/12/04'</td>\n      <td>109</td>\n      <td>175</td>\n      <td>282.4</td>\n    </tr>\n    <tr>\n      <th>4</th>\n      <td>45</td>\n      <td>'2020/12/05'</td>\n      <td>117</td>\n      <td>148</td>\n      <td>406.0</td>\n    </tr>\n    <tr>\n      <th>5</th>\n      <td>60</td>\n      <td>'2020/12/06'</td>\n      <td>102</td>\n      <td>127</td>\n      <td>300.0</td>\n    </tr>\n    <tr>\n      <th>6</th>\n      <td>60</td>\n      <td>'2020/12/07'</td>\n      <td>110</td>\n      <td>136</td>\n      <td>374.0</td>\n    </tr>\n    <tr>\n      <th>7</th>\n      <td>450</td>\n      <td>'2020/12/08'</td>\n      <td>104</td>\n      <td>134</td>\n      <td>253.3</td>\n    </tr>\n    <tr>\n      <th>8</th>\n      <td>30</td>\n      <td>'2020/12/09'</td>\n      <td>109</td>\n      <td>133</td>\n      <td>195.1</td>\n    </tr>\n    <tr>\n      <th>9</th>\n      <td>60</td>\n      <td>'2020/12/10'</td>\n      <td>98</td>\n      <td>124</td>\n      <td>269.0</td>\n    </tr>\n    <tr>\n      <th>10</th>\n      <td>60</td>\n      <td>'2020/12/11'</td>\n      <td>103</td>\n      <td>147</td>\n      <td>329.3</td>\n    </tr>\n    <tr>\n      <th>11</th>\n      <td>60</td>\n      <td>'2020/12/12'</td>\n      <td>100</td>\n      <td>120</td>\n      <td>250.7</td>\n    </tr>\n    <tr>\n      <th>12</th>\n      <td>60</td>\n      <td>'2020/12/12'</td>\n      <td>100</td>\n      <td>120</td>\n      <td>250.7</td>\n    </tr>\n    <tr>\n      <th>13</th>\n      <td>60</td>\n      <td>'2020/12/13'</td>\n      <td>106</td>\n      <td>128</td>\n      <td>345.3</td>\n    </tr>\n    <tr>\n      <th>14</th>\n      <td>60</td>\n      <td>'2020/12/14'</td>\n      <td>104</td>\n      <td>132</td>\n      <td>379.3</td>\n    </tr>\n    <tr>\n      <th>15</th>\n      <td>60</td>\n      <td>'2020/12/15'</td>\n      <td>98</td>\n      <td>123</td>\n      <td>275.0</td>\n    </tr>\n    <tr>\n      <th>16</th>\n      <td>60</td>\n      <td>'2020/12/16'</td>\n      <td>98</td>\n      <td>120</td>\n      <td>215.2</td>\n    </tr>\n    <tr>\n      <th>17</th>\n      <td>60</td>\n      <td>'2020/12/17'</td>\n      <td>100</td>\n      <td>120</td>\n      <td>300.0</td>\n    </tr>\n    <tr>\n      <th>18</th>\n      <td>45</td>\n      <td>'2020/12/18'</td>\n      <td>90</td>\n      <td>112</td>\n      <td>Hello</td>\n    </tr>\n    <tr>\n      <th>19</th>\n      <td>60</td>\n      <td>'2020/12/19'</td>\n      <td>103</td>\n      <td>123</td>\n      <td>323.0</td>\n    </tr>\n    <tr>\n      <th>20</th>\n      <td>45</td>\n      <td>'2020/12/20'</td>\n      <td>97</td>\n      <td>125</td>\n      <td>243.0</td>\n    </tr>\n    <tr>\n      <th>21</th>\n      <td>60</td>\n      <td>'2020/12/21'</td>\n      <td>108</td>\n      <td>131</td>\n      <td>364.2</td>\n    </tr>\n    <tr>\n      <th>22</th>\n      <td>45</td>\n      <td>Hello</td>\n      <td>100</td>\n      <td>119</td>\n      <td>282.0</td>\n    </tr>\n    <tr>\n      <th>23</th>\n      <td>60</td>\n      <td>'2020/12/23'</td>\n      <td>130</td>\n      <td>101</td>\n      <td>300.0</td>\n    </tr>\n    <tr>\n      <th>24</th>\n      <td>45</td>\n      <td>'2020/12/24'</td>\n      <td>105</td>\n      <td>132</td>\n      <td>246.0</td>\n    </tr>\n    <tr>\n      <th>25</th>\n      <td>60</td>\n      <td>'2020/12/25'</td>\n      <td>102</td>\n      <td>126</td>\n      <td>334.5</td>\n    </tr>\n    <tr>\n      <th>26</th>\n      <td>60</td>\n      <td>20201226</td>\n      <td>100</td>\n      <td>120</td>\n      <td>250.0</td>\n    </tr>\n    <tr>\n      <th>27</th>\n      <td>60</td>\n      <td>'2020/12/27'</td>\n      <td>92</td>\n      <td>118</td>\n      <td>241.0</td>\n    </tr>\n    <tr>\n      <th>28</th>\n      <td>60</td>\n      <td>'2020/12/28'</td>\n      <td>103</td>\n      <td>132</td>\n      <td>Hello</td>\n    </tr>\n    <tr>\n      <th>29</th>\n      <td>60</td>\n      <td>'2020/12/29'</td>\n      <td>100</td>\n      <td>132</td>\n      <td>280.0</td>\n    </tr>\n    <tr>\n      <th>30</th>\n      <td>60</td>\n      <td>'2020/12/30'</td>\n      <td>102</td>\n      <td>129</td>\n      <td>380.3</td>\n    </tr>\n    <tr>\n      <th>31</th>\n      <td>60</td>\n      <td>'2020/12/31'</td>\n      <td>92</td>\n      <td>115</td>\n      <td>243.0</td>\n    </tr>\n  </tbody>\n</table>\n</div>"
     },
     "metadata": {},
     "execution_count": 15
    }
   ],
   "source": [
    "a = pd.read_csv(\"data2.csv\")\n",
    "a.fillna(\"Hello\",inplace = True) #เเทนที่บรรทัดที่ว่างด้วย Hello\n",
    "a"
   ]
  },
  {
   "cell_type": "code",
   "execution_count": 16,
   "metadata": {},
   "outputs": [
    {
     "output_type": "execute_result",
     "data": {
      "text/plain": [
       "    Duration          Date  Pulse  Maxpulse  Calories\n",
       "0         60  '2020/12/01'    110       130     409.1\n",
       "1         60  '2020/12/02'    117       145     479.0\n",
       "2         60  '2020/12/03'    103       135     340.0\n",
       "3         45  '2020/12/04'    109       175     282.4\n",
       "4         45  '2020/12/05'    117       148     406.0\n",
       "5         60  '2020/12/06'    102       127     300.0\n",
       "6         60  '2020/12/07'    110       136     374.0\n",
       "7        450  '2020/12/08'    104       134     253.3\n",
       "8         30  '2020/12/09'    109       133     195.1\n",
       "9         60  '2020/12/10'     98       124     269.0\n",
       "10        60  '2020/12/11'    103       147     329.3\n",
       "11        60  '2020/12/12'    100       120     250.7\n",
       "12        60  '2020/12/12'    100       120     250.7\n",
       "13        60  '2020/12/13'    106       128     345.3\n",
       "14        60  '2020/12/14'    104       132     379.3\n",
       "15        60  '2020/12/15'     98       123     275.0\n",
       "16        60  '2020/12/16'     98       120     215.2\n",
       "17        60  '2020/12/17'    100       120     300.0\n",
       "18        45  '2020/12/18'     90       112     100.0\n",
       "19        60  '2020/12/19'    103       123     323.0\n",
       "20        45  '2020/12/20'     97       125     243.0\n",
       "21        60  '2020/12/21'    108       131     364.2\n",
       "22        45           100    100       119     282.0\n",
       "23        60  '2020/12/23'    130       101     300.0\n",
       "24        45  '2020/12/24'    105       132     246.0\n",
       "25        60  '2020/12/25'    102       126     334.5\n",
       "26        60      20201226    100       120     250.0\n",
       "27        60  '2020/12/27'     92       118     241.0\n",
       "28        60  '2020/12/28'    103       132     100.0\n",
       "29        60  '2020/12/29'    100       132     280.0\n",
       "30        60  '2020/12/30'    102       129     380.3\n",
       "31        60  '2020/12/31'     92       115     243.0"
      ],
      "text/html": "<div>\n<style scoped>\n    .dataframe tbody tr th:only-of-type {\n        vertical-align: middle;\n    }\n\n    .dataframe tbody tr th {\n        vertical-align: top;\n    }\n\n    .dataframe thead th {\n        text-align: right;\n    }\n</style>\n<table border=\"1\" class=\"dataframe\">\n  <thead>\n    <tr style=\"text-align: right;\">\n      <th></th>\n      <th>Duration</th>\n      <th>Date</th>\n      <th>Pulse</th>\n      <th>Maxpulse</th>\n      <th>Calories</th>\n    </tr>\n  </thead>\n  <tbody>\n    <tr>\n      <th>0</th>\n      <td>60</td>\n      <td>'2020/12/01'</td>\n      <td>110</td>\n      <td>130</td>\n      <td>409.1</td>\n    </tr>\n    <tr>\n      <th>1</th>\n      <td>60</td>\n      <td>'2020/12/02'</td>\n      <td>117</td>\n      <td>145</td>\n      <td>479.0</td>\n    </tr>\n    <tr>\n      <th>2</th>\n      <td>60</td>\n      <td>'2020/12/03'</td>\n      <td>103</td>\n      <td>135</td>\n      <td>340.0</td>\n    </tr>\n    <tr>\n      <th>3</th>\n      <td>45</td>\n      <td>'2020/12/04'</td>\n      <td>109</td>\n      <td>175</td>\n      <td>282.4</td>\n    </tr>\n    <tr>\n      <th>4</th>\n      <td>45</td>\n      <td>'2020/12/05'</td>\n      <td>117</td>\n      <td>148</td>\n      <td>406.0</td>\n    </tr>\n    <tr>\n      <th>5</th>\n      <td>60</td>\n      <td>'2020/12/06'</td>\n      <td>102</td>\n      <td>127</td>\n      <td>300.0</td>\n    </tr>\n    <tr>\n      <th>6</th>\n      <td>60</td>\n      <td>'2020/12/07'</td>\n      <td>110</td>\n      <td>136</td>\n      <td>374.0</td>\n    </tr>\n    <tr>\n      <th>7</th>\n      <td>450</td>\n      <td>'2020/12/08'</td>\n      <td>104</td>\n      <td>134</td>\n      <td>253.3</td>\n    </tr>\n    <tr>\n      <th>8</th>\n      <td>30</td>\n      <td>'2020/12/09'</td>\n      <td>109</td>\n      <td>133</td>\n      <td>195.1</td>\n    </tr>\n    <tr>\n      <th>9</th>\n      <td>60</td>\n      <td>'2020/12/10'</td>\n      <td>98</td>\n      <td>124</td>\n      <td>269.0</td>\n    </tr>\n    <tr>\n      <th>10</th>\n      <td>60</td>\n      <td>'2020/12/11'</td>\n      <td>103</td>\n      <td>147</td>\n      <td>329.3</td>\n    </tr>\n    <tr>\n      <th>11</th>\n      <td>60</td>\n      <td>'2020/12/12'</td>\n      <td>100</td>\n      <td>120</td>\n      <td>250.7</td>\n    </tr>\n    <tr>\n      <th>12</th>\n      <td>60</td>\n      <td>'2020/12/12'</td>\n      <td>100</td>\n      <td>120</td>\n      <td>250.7</td>\n    </tr>\n    <tr>\n      <th>13</th>\n      <td>60</td>\n      <td>'2020/12/13'</td>\n      <td>106</td>\n      <td>128</td>\n      <td>345.3</td>\n    </tr>\n    <tr>\n      <th>14</th>\n      <td>60</td>\n      <td>'2020/12/14'</td>\n      <td>104</td>\n      <td>132</td>\n      <td>379.3</td>\n    </tr>\n    <tr>\n      <th>15</th>\n      <td>60</td>\n      <td>'2020/12/15'</td>\n      <td>98</td>\n      <td>123</td>\n      <td>275.0</td>\n    </tr>\n    <tr>\n      <th>16</th>\n      <td>60</td>\n      <td>'2020/12/16'</td>\n      <td>98</td>\n      <td>120</td>\n      <td>215.2</td>\n    </tr>\n    <tr>\n      <th>17</th>\n      <td>60</td>\n      <td>'2020/12/17'</td>\n      <td>100</td>\n      <td>120</td>\n      <td>300.0</td>\n    </tr>\n    <tr>\n      <th>18</th>\n      <td>45</td>\n      <td>'2020/12/18'</td>\n      <td>90</td>\n      <td>112</td>\n      <td>100.0</td>\n    </tr>\n    <tr>\n      <th>19</th>\n      <td>60</td>\n      <td>'2020/12/19'</td>\n      <td>103</td>\n      <td>123</td>\n      <td>323.0</td>\n    </tr>\n    <tr>\n      <th>20</th>\n      <td>45</td>\n      <td>'2020/12/20'</td>\n      <td>97</td>\n      <td>125</td>\n      <td>243.0</td>\n    </tr>\n    <tr>\n      <th>21</th>\n      <td>60</td>\n      <td>'2020/12/21'</td>\n      <td>108</td>\n      <td>131</td>\n      <td>364.2</td>\n    </tr>\n    <tr>\n      <th>22</th>\n      <td>45</td>\n      <td>100</td>\n      <td>100</td>\n      <td>119</td>\n      <td>282.0</td>\n    </tr>\n    <tr>\n      <th>23</th>\n      <td>60</td>\n      <td>'2020/12/23'</td>\n      <td>130</td>\n      <td>101</td>\n      <td>300.0</td>\n    </tr>\n    <tr>\n      <th>24</th>\n      <td>45</td>\n      <td>'2020/12/24'</td>\n      <td>105</td>\n      <td>132</td>\n      <td>246.0</td>\n    </tr>\n    <tr>\n      <th>25</th>\n      <td>60</td>\n      <td>'2020/12/25'</td>\n      <td>102</td>\n      <td>126</td>\n      <td>334.5</td>\n    </tr>\n    <tr>\n      <th>26</th>\n      <td>60</td>\n      <td>20201226</td>\n      <td>100</td>\n      <td>120</td>\n      <td>250.0</td>\n    </tr>\n    <tr>\n      <th>27</th>\n      <td>60</td>\n      <td>'2020/12/27'</td>\n      <td>92</td>\n      <td>118</td>\n      <td>241.0</td>\n    </tr>\n    <tr>\n      <th>28</th>\n      <td>60</td>\n      <td>'2020/12/28'</td>\n      <td>103</td>\n      <td>132</td>\n      <td>100.0</td>\n    </tr>\n    <tr>\n      <th>29</th>\n      <td>60</td>\n      <td>'2020/12/29'</td>\n      <td>100</td>\n      <td>132</td>\n      <td>280.0</td>\n    </tr>\n    <tr>\n      <th>30</th>\n      <td>60</td>\n      <td>'2020/12/30'</td>\n      <td>102</td>\n      <td>129</td>\n      <td>380.3</td>\n    </tr>\n    <tr>\n      <th>31</th>\n      <td>60</td>\n      <td>'2020/12/31'</td>\n      <td>92</td>\n      <td>115</td>\n      <td>243.0</td>\n    </tr>\n  </tbody>\n</table>\n</div>"
     },
     "metadata": {},
     "execution_count": 16
    }
   ],
   "source": [
    "a = pd.read_csv(\"data2.csv\")\n",
    "a.fillna(100 ,inplace = True) #เเทนที่บรรทัดที่ว่างด้วย 100\n",
    "a"
   ]
  },
  {
   "cell_type": "code",
   "execution_count": 19,
   "metadata": {},
   "outputs": [
    {
     "output_type": "execute_result",
     "data": {
      "text/plain": [
       "    Duration          Date  Pulse  Maxpulse Calories\n",
       "0         60  '2020/12/01'    110       130    409.1\n",
       "1         60  '2020/12/02'    117       145    479.0\n",
       "2         60  '2020/12/03'    103       135    340.0\n",
       "3         45  '2020/12/04'    109       175    282.4\n",
       "4         45  '2020/12/05'    117       148    406.0\n",
       "5         60  '2020/12/06'    102       127    300.0\n",
       "6         60  '2020/12/07'    110       136    374.0\n",
       "7        450  '2020/12/08'    104       134    253.3\n",
       "8         30  '2020/12/09'    109       133    195.1\n",
       "9         60  '2020/12/10'     98       124    269.0\n",
       "10        60  '2020/12/11'    103       147    329.3\n",
       "11        60  '2020/12/12'    100       120    250.7\n",
       "12        60  '2020/12/12'    100       120    250.7\n",
       "13        60  '2020/12/13'    106       128    345.3\n",
       "14        60  '2020/12/14'    104       132    379.3\n",
       "15        60  '2020/12/15'     98       123    275.0\n",
       "16        60  '2020/12/16'     98       120    215.2\n",
       "17        60  '2020/12/17'    100       120    300.0\n",
       "18        45  '2020/12/18'     90       112    Hello\n",
       "19        60  '2020/12/19'    103       123    323.0\n",
       "20        45  '2020/12/20'     97       125    243.0\n",
       "21        60  '2020/12/21'    108       131    364.2\n",
       "22        45           NaN    100       119    282.0\n",
       "23        60  '2020/12/23'    130       101    300.0\n",
       "24        45  '2020/12/24'    105       132    246.0\n",
       "25        60  '2020/12/25'    102       126    334.5\n",
       "26        60      20201226    100       120    250.0\n",
       "27        60  '2020/12/27'     92       118    241.0\n",
       "28        60  '2020/12/28'    103       132    Hello\n",
       "29        60  '2020/12/29'    100       132    280.0\n",
       "30        60  '2020/12/30'    102       129    380.3\n",
       "31        60  '2020/12/31'     92       115    243.0"
      ],
      "text/html": "<div>\n<style scoped>\n    .dataframe tbody tr th:only-of-type {\n        vertical-align: middle;\n    }\n\n    .dataframe tbody tr th {\n        vertical-align: top;\n    }\n\n    .dataframe thead th {\n        text-align: right;\n    }\n</style>\n<table border=\"1\" class=\"dataframe\">\n  <thead>\n    <tr style=\"text-align: right;\">\n      <th></th>\n      <th>Duration</th>\n      <th>Date</th>\n      <th>Pulse</th>\n      <th>Maxpulse</th>\n      <th>Calories</th>\n    </tr>\n  </thead>\n  <tbody>\n    <tr>\n      <th>0</th>\n      <td>60</td>\n      <td>'2020/12/01'</td>\n      <td>110</td>\n      <td>130</td>\n      <td>409.1</td>\n    </tr>\n    <tr>\n      <th>1</th>\n      <td>60</td>\n      <td>'2020/12/02'</td>\n      <td>117</td>\n      <td>145</td>\n      <td>479.0</td>\n    </tr>\n    <tr>\n      <th>2</th>\n      <td>60</td>\n      <td>'2020/12/03'</td>\n      <td>103</td>\n      <td>135</td>\n      <td>340.0</td>\n    </tr>\n    <tr>\n      <th>3</th>\n      <td>45</td>\n      <td>'2020/12/04'</td>\n      <td>109</td>\n      <td>175</td>\n      <td>282.4</td>\n    </tr>\n    <tr>\n      <th>4</th>\n      <td>45</td>\n      <td>'2020/12/05'</td>\n      <td>117</td>\n      <td>148</td>\n      <td>406.0</td>\n    </tr>\n    <tr>\n      <th>5</th>\n      <td>60</td>\n      <td>'2020/12/06'</td>\n      <td>102</td>\n      <td>127</td>\n      <td>300.0</td>\n    </tr>\n    <tr>\n      <th>6</th>\n      <td>60</td>\n      <td>'2020/12/07'</td>\n      <td>110</td>\n      <td>136</td>\n      <td>374.0</td>\n    </tr>\n    <tr>\n      <th>7</th>\n      <td>450</td>\n      <td>'2020/12/08'</td>\n      <td>104</td>\n      <td>134</td>\n      <td>253.3</td>\n    </tr>\n    <tr>\n      <th>8</th>\n      <td>30</td>\n      <td>'2020/12/09'</td>\n      <td>109</td>\n      <td>133</td>\n      <td>195.1</td>\n    </tr>\n    <tr>\n      <th>9</th>\n      <td>60</td>\n      <td>'2020/12/10'</td>\n      <td>98</td>\n      <td>124</td>\n      <td>269.0</td>\n    </tr>\n    <tr>\n      <th>10</th>\n      <td>60</td>\n      <td>'2020/12/11'</td>\n      <td>103</td>\n      <td>147</td>\n      <td>329.3</td>\n    </tr>\n    <tr>\n      <th>11</th>\n      <td>60</td>\n      <td>'2020/12/12'</td>\n      <td>100</td>\n      <td>120</td>\n      <td>250.7</td>\n    </tr>\n    <tr>\n      <th>12</th>\n      <td>60</td>\n      <td>'2020/12/12'</td>\n      <td>100</td>\n      <td>120</td>\n      <td>250.7</td>\n    </tr>\n    <tr>\n      <th>13</th>\n      <td>60</td>\n      <td>'2020/12/13'</td>\n      <td>106</td>\n      <td>128</td>\n      <td>345.3</td>\n    </tr>\n    <tr>\n      <th>14</th>\n      <td>60</td>\n      <td>'2020/12/14'</td>\n      <td>104</td>\n      <td>132</td>\n      <td>379.3</td>\n    </tr>\n    <tr>\n      <th>15</th>\n      <td>60</td>\n      <td>'2020/12/15'</td>\n      <td>98</td>\n      <td>123</td>\n      <td>275.0</td>\n    </tr>\n    <tr>\n      <th>16</th>\n      <td>60</td>\n      <td>'2020/12/16'</td>\n      <td>98</td>\n      <td>120</td>\n      <td>215.2</td>\n    </tr>\n    <tr>\n      <th>17</th>\n      <td>60</td>\n      <td>'2020/12/17'</td>\n      <td>100</td>\n      <td>120</td>\n      <td>300.0</td>\n    </tr>\n    <tr>\n      <th>18</th>\n      <td>45</td>\n      <td>'2020/12/18'</td>\n      <td>90</td>\n      <td>112</td>\n      <td>Hello</td>\n    </tr>\n    <tr>\n      <th>19</th>\n      <td>60</td>\n      <td>'2020/12/19'</td>\n      <td>103</td>\n      <td>123</td>\n      <td>323.0</td>\n    </tr>\n    <tr>\n      <th>20</th>\n      <td>45</td>\n      <td>'2020/12/20'</td>\n      <td>97</td>\n      <td>125</td>\n      <td>243.0</td>\n    </tr>\n    <tr>\n      <th>21</th>\n      <td>60</td>\n      <td>'2020/12/21'</td>\n      <td>108</td>\n      <td>131</td>\n      <td>364.2</td>\n    </tr>\n    <tr>\n      <th>22</th>\n      <td>45</td>\n      <td>NaN</td>\n      <td>100</td>\n      <td>119</td>\n      <td>282.0</td>\n    </tr>\n    <tr>\n      <th>23</th>\n      <td>60</td>\n      <td>'2020/12/23'</td>\n      <td>130</td>\n      <td>101</td>\n      <td>300.0</td>\n    </tr>\n    <tr>\n      <th>24</th>\n      <td>45</td>\n      <td>'2020/12/24'</td>\n      <td>105</td>\n      <td>132</td>\n      <td>246.0</td>\n    </tr>\n    <tr>\n      <th>25</th>\n      <td>60</td>\n      <td>'2020/12/25'</td>\n      <td>102</td>\n      <td>126</td>\n      <td>334.5</td>\n    </tr>\n    <tr>\n      <th>26</th>\n      <td>60</td>\n      <td>20201226</td>\n      <td>100</td>\n      <td>120</td>\n      <td>250.0</td>\n    </tr>\n    <tr>\n      <th>27</th>\n      <td>60</td>\n      <td>'2020/12/27'</td>\n      <td>92</td>\n      <td>118</td>\n      <td>241.0</td>\n    </tr>\n    <tr>\n      <th>28</th>\n      <td>60</td>\n      <td>'2020/12/28'</td>\n      <td>103</td>\n      <td>132</td>\n      <td>Hello</td>\n    </tr>\n    <tr>\n      <th>29</th>\n      <td>60</td>\n      <td>'2020/12/29'</td>\n      <td>100</td>\n      <td>132</td>\n      <td>280.0</td>\n    </tr>\n    <tr>\n      <th>30</th>\n      <td>60</td>\n      <td>'2020/12/30'</td>\n      <td>102</td>\n      <td>129</td>\n      <td>380.3</td>\n    </tr>\n    <tr>\n      <th>31</th>\n      <td>60</td>\n      <td>'2020/12/31'</td>\n      <td>92</td>\n      <td>115</td>\n      <td>243.0</td>\n    </tr>\n  </tbody>\n</table>\n</div>"
     },
     "metadata": {},
     "execution_count": 19
    }
   ],
   "source": [
    "a = pd.read_csv(\"data2.csv\")\n",
    "a[\"Calories\"].fillna(\"Hello\",inplace = True) #เเทนที่บรรทัดที่ว่างด้วย Hello ในคอลัม Calories\n",
    "a"
   ]
  },
  {
   "cell_type": "code",
   "execution_count": 24,
   "metadata": {},
   "outputs": [
    {
     "output_type": "stream",
     "name": "stdout",
     "text": [
      "304.68\n"
     ]
    }
   ],
   "source": [
    "a = pd.read_csv(\"data2.csv\")\n",
    "b = a[\"Calories\"].mean() #ค่าเฉลี่ย\n",
    "print(b)"
   ]
  },
  {
   "cell_type": "code",
   "execution_count": 25,
   "metadata": {},
   "outputs": [
    {
     "output_type": "stream",
     "name": "stdout",
     "text": [
      "291.2\n"
     ]
    }
   ],
   "source": [
    "a = pd.read_csv(\"data2.csv\")\n",
    "b = a[\"Calories\"].median() #มัฐยฐาน\n",
    "print(b)"
   ]
  },
  {
   "cell_type": "code",
   "execution_count": 28,
   "metadata": {},
   "outputs": [
    {
     "output_type": "stream",
     "name": "stdout",
     "text": [
      "0    300.0\ndtype: float64\n"
     ]
    }
   ],
   "source": [
    "a = pd.read_csv(\"data2.csv\")\n",
    "b = a[\"Calories\"].mode() #ฐานนิยม\n",
    "print(b)"
   ]
  },
  {
   "cell_type": "code",
   "execution_count": 36,
   "metadata": {},
   "outputs": [
    {
     "output_type": "execute_result",
     "data": {
      "text/plain": [
       "0    2020-12-01\n",
       "1    2020-12-02\n",
       "2    2020-12-03\n",
       "3    2020-12-04\n",
       "4    2020-12-05\n",
       "5    2020-12-06\n",
       "6    2020-12-07\n",
       "7    2020-12-08\n",
       "8    2020-12-09\n",
       "9    2020-12-10\n",
       "10   2020-12-11\n",
       "11   2020-12-12\n",
       "12   2020-12-12\n",
       "13   2020-12-13\n",
       "14   2020-12-14\n",
       "15   2020-12-15\n",
       "16   2020-12-16\n",
       "17   2020-12-17\n",
       "18   2020-12-18\n",
       "19   2020-12-19\n",
       "20   2020-12-20\n",
       "21   2020-12-21\n",
       "22          NaT\n",
       "23   2020-12-23\n",
       "24   2020-12-24\n",
       "25   2020-12-25\n",
       "26   2020-12-26\n",
       "27   2020-12-27\n",
       "28   2020-12-28\n",
       "29   2020-12-29\n",
       "30   2020-12-30\n",
       "31   2020-12-31\n",
       "Name: Date, dtype: datetime64[ns]"
      ]
     },
     "metadata": {},
     "execution_count": 36
    }
   ],
   "source": [
    "a = pd.read_csv(\"data2.csv\")\n",
    "a[\"Date\"] = pd.to_datetime(a[\"Date\"]) #เรียงวันที่เป็น yyyy/mm/dd\n",
    "a[\"Date\"]"
   ]
  },
  {
   "cell_type": "code",
   "execution_count": 39,
   "metadata": {},
   "outputs": [
    {
     "output_type": "execute_result",
     "data": {
      "text/plain": [
       "    Duration          Date  Pulse  Maxpulse  Calories\n",
       "0          0  '2020/12/01'    110       130     409.1\n",
       "1         60  '2020/12/02'    117       145     479.0\n",
       "2         60  '2020/12/03'    103       135     340.0\n",
       "3         45  '2020/12/04'    109       175     282.4\n",
       "4         45  '2020/12/05'    117       148     406.0\n",
       "5         60  '2020/12/06'    102       127     300.0\n",
       "6         60  '2020/12/07'    110       136     374.0\n",
       "7        450  '2020/12/08'    104       134     253.3\n",
       "8         30  '2020/12/09'    109       133     195.1\n",
       "9         60  '2020/12/10'     98       124     269.0\n",
       "10        60  '2020/12/11'    103       147     329.3\n",
       "11        60  '2020/12/12'    100       120     250.7\n",
       "12        60  '2020/12/12'    100       120     250.7\n",
       "13        60  '2020/12/13'    106       128     345.3\n",
       "14        60  '2020/12/14'    104       132     379.3\n",
       "15        60  '2020/12/15'     98       123     275.0\n",
       "16        60  '2020/12/16'     98       120     215.2\n",
       "17        60  '2020/12/17'    100       120     300.0\n",
       "18        45  '2020/12/18'     90       112       NaN\n",
       "19        60  '2020/12/19'    103       123     323.0\n",
       "20        45  '2020/12/20'     97       125     243.0\n",
       "21        60  '2020/12/21'    108       131     364.2\n",
       "22        45           NaN    100       119     282.0\n",
       "23        60  '2020/12/23'    130       101     300.0\n",
       "24        45  '2020/12/24'    105       132     246.0\n",
       "25        60  '2020/12/25'    102       126     334.5\n",
       "26        60      20201226    100       120     250.0\n",
       "27        60  '2020/12/27'     92       118     241.0\n",
       "28        60  '2020/12/28'    103       132       NaN\n",
       "29        60  '2020/12/29'    100       132     280.0\n",
       "30        60  '2020/12/30'    102       129     380.3\n",
       "31        60  '2020/12/31'     92       115     243.0"
      ],
      "text/html": "<div>\n<style scoped>\n    .dataframe tbody tr th:only-of-type {\n        vertical-align: middle;\n    }\n\n    .dataframe tbody tr th {\n        vertical-align: top;\n    }\n\n    .dataframe thead th {\n        text-align: right;\n    }\n</style>\n<table border=\"1\" class=\"dataframe\">\n  <thead>\n    <tr style=\"text-align: right;\">\n      <th></th>\n      <th>Duration</th>\n      <th>Date</th>\n      <th>Pulse</th>\n      <th>Maxpulse</th>\n      <th>Calories</th>\n    </tr>\n  </thead>\n  <tbody>\n    <tr>\n      <th>0</th>\n      <td>0</td>\n      <td>'2020/12/01'</td>\n      <td>110</td>\n      <td>130</td>\n      <td>409.1</td>\n    </tr>\n    <tr>\n      <th>1</th>\n      <td>60</td>\n      <td>'2020/12/02'</td>\n      <td>117</td>\n      <td>145</td>\n      <td>479.0</td>\n    </tr>\n    <tr>\n      <th>2</th>\n      <td>60</td>\n      <td>'2020/12/03'</td>\n      <td>103</td>\n      <td>135</td>\n      <td>340.0</td>\n    </tr>\n    <tr>\n      <th>3</th>\n      <td>45</td>\n      <td>'2020/12/04'</td>\n      <td>109</td>\n      <td>175</td>\n      <td>282.4</td>\n    </tr>\n    <tr>\n      <th>4</th>\n      <td>45</td>\n      <td>'2020/12/05'</td>\n      <td>117</td>\n      <td>148</td>\n      <td>406.0</td>\n    </tr>\n    <tr>\n      <th>5</th>\n      <td>60</td>\n      <td>'2020/12/06'</td>\n      <td>102</td>\n      <td>127</td>\n      <td>300.0</td>\n    </tr>\n    <tr>\n      <th>6</th>\n      <td>60</td>\n      <td>'2020/12/07'</td>\n      <td>110</td>\n      <td>136</td>\n      <td>374.0</td>\n    </tr>\n    <tr>\n      <th>7</th>\n      <td>450</td>\n      <td>'2020/12/08'</td>\n      <td>104</td>\n      <td>134</td>\n      <td>253.3</td>\n    </tr>\n    <tr>\n      <th>8</th>\n      <td>30</td>\n      <td>'2020/12/09'</td>\n      <td>109</td>\n      <td>133</td>\n      <td>195.1</td>\n    </tr>\n    <tr>\n      <th>9</th>\n      <td>60</td>\n      <td>'2020/12/10'</td>\n      <td>98</td>\n      <td>124</td>\n      <td>269.0</td>\n    </tr>\n    <tr>\n      <th>10</th>\n      <td>60</td>\n      <td>'2020/12/11'</td>\n      <td>103</td>\n      <td>147</td>\n      <td>329.3</td>\n    </tr>\n    <tr>\n      <th>11</th>\n      <td>60</td>\n      <td>'2020/12/12'</td>\n      <td>100</td>\n      <td>120</td>\n      <td>250.7</td>\n    </tr>\n    <tr>\n      <th>12</th>\n      <td>60</td>\n      <td>'2020/12/12'</td>\n      <td>100</td>\n      <td>120</td>\n      <td>250.7</td>\n    </tr>\n    <tr>\n      <th>13</th>\n      <td>60</td>\n      <td>'2020/12/13'</td>\n      <td>106</td>\n      <td>128</td>\n      <td>345.3</td>\n    </tr>\n    <tr>\n      <th>14</th>\n      <td>60</td>\n      <td>'2020/12/14'</td>\n      <td>104</td>\n      <td>132</td>\n      <td>379.3</td>\n    </tr>\n    <tr>\n      <th>15</th>\n      <td>60</td>\n      <td>'2020/12/15'</td>\n      <td>98</td>\n      <td>123</td>\n      <td>275.0</td>\n    </tr>\n    <tr>\n      <th>16</th>\n      <td>60</td>\n      <td>'2020/12/16'</td>\n      <td>98</td>\n      <td>120</td>\n      <td>215.2</td>\n    </tr>\n    <tr>\n      <th>17</th>\n      <td>60</td>\n      <td>'2020/12/17'</td>\n      <td>100</td>\n      <td>120</td>\n      <td>300.0</td>\n    </tr>\n    <tr>\n      <th>18</th>\n      <td>45</td>\n      <td>'2020/12/18'</td>\n      <td>90</td>\n      <td>112</td>\n      <td>NaN</td>\n    </tr>\n    <tr>\n      <th>19</th>\n      <td>60</td>\n      <td>'2020/12/19'</td>\n      <td>103</td>\n      <td>123</td>\n      <td>323.0</td>\n    </tr>\n    <tr>\n      <th>20</th>\n      <td>45</td>\n      <td>'2020/12/20'</td>\n      <td>97</td>\n      <td>125</td>\n      <td>243.0</td>\n    </tr>\n    <tr>\n      <th>21</th>\n      <td>60</td>\n      <td>'2020/12/21'</td>\n      <td>108</td>\n      <td>131</td>\n      <td>364.2</td>\n    </tr>\n    <tr>\n      <th>22</th>\n      <td>45</td>\n      <td>NaN</td>\n      <td>100</td>\n      <td>119</td>\n      <td>282.0</td>\n    </tr>\n    <tr>\n      <th>23</th>\n      <td>60</td>\n      <td>'2020/12/23'</td>\n      <td>130</td>\n      <td>101</td>\n      <td>300.0</td>\n    </tr>\n    <tr>\n      <th>24</th>\n      <td>45</td>\n      <td>'2020/12/24'</td>\n      <td>105</td>\n      <td>132</td>\n      <td>246.0</td>\n    </tr>\n    <tr>\n      <th>25</th>\n      <td>60</td>\n      <td>'2020/12/25'</td>\n      <td>102</td>\n      <td>126</td>\n      <td>334.5</td>\n    </tr>\n    <tr>\n      <th>26</th>\n      <td>60</td>\n      <td>20201226</td>\n      <td>100</td>\n      <td>120</td>\n      <td>250.0</td>\n    </tr>\n    <tr>\n      <th>27</th>\n      <td>60</td>\n      <td>'2020/12/27'</td>\n      <td>92</td>\n      <td>118</td>\n      <td>241.0</td>\n    </tr>\n    <tr>\n      <th>28</th>\n      <td>60</td>\n      <td>'2020/12/28'</td>\n      <td>103</td>\n      <td>132</td>\n      <td>NaN</td>\n    </tr>\n    <tr>\n      <th>29</th>\n      <td>60</td>\n      <td>'2020/12/29'</td>\n      <td>100</td>\n      <td>132</td>\n      <td>280.0</td>\n    </tr>\n    <tr>\n      <th>30</th>\n      <td>60</td>\n      <td>'2020/12/30'</td>\n      <td>102</td>\n      <td>129</td>\n      <td>380.3</td>\n    </tr>\n    <tr>\n      <th>31</th>\n      <td>60</td>\n      <td>'2020/12/31'</td>\n      <td>92</td>\n      <td>115</td>\n      <td>243.0</td>\n    </tr>\n  </tbody>\n</table>\n</div>"
     },
     "metadata": {},
     "execution_count": 39
    }
   ],
   "source": [
    "a = pd.read_csv(\"data2.csv\")\n",
    "a.loc[0,\"Duration\"] = 0 #เเทน 0 ที่คอลัม Duration ตำเเหน่ง 0\n",
    "a"
   ]
  },
  {
   "cell_type": "code",
   "execution_count": 41,
   "metadata": {},
   "outputs": [
    {
     "output_type": "stream",
     "name": "stdout",
     "text": [
      "0     False\n1     False\n2     False\n3     False\n4     False\n5     False\n6     False\n7     False\n8     False\n9     False\n10    False\n11    False\n12     True\n13    False\n14    False\n15    False\n16    False\n17    False\n18    False\n19    False\n20    False\n21    False\n22    False\n23    False\n24    False\n25    False\n26    False\n27    False\n28    False\n29    False\n30    False\n31    False\ndtype: bool\n"
     ]
    }
   ],
   "source": [
    "a = pd.read_csv(\"data2.csv\")\n",
    "print(a.duplicated()) #กำจัดข้อมูลที่ซ้ำซ้อน ถ้าซ้ำก็จะได้ค่า True"
   ]
  },
  {
   "cell_type": "code",
   "execution_count": null,
   "metadata": {},
   "outputs": [],
   "source": []
  }
 ]
}